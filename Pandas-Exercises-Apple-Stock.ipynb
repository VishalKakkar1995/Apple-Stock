{
 "cells": [
  {
   "cell_type": "markdown",
   "metadata": {},
   "source": [
    "# Apple Stock"
   ]
  },
  {
   "cell_type": "markdown",
   "metadata": {},
   "source": [
    "### Introduction:\n",
    "\n",
    "We are going to use Apple's stock price.\n",
    "\n",
    "\n",
    "### Step 1. Import the necessary libraries (pandas,numpy, matplotlib etc)"
   ]
  },
  {
   "cell_type": "code",
   "execution_count": 1,
   "metadata": {},
   "outputs": [],
   "source": [
    "import pandas as pd\n",
    "import numpy as np"
   ]
  },
  {
   "cell_type": "code",
   "execution_count": 2,
   "metadata": {},
   "outputs": [],
   "source": [
    "from matplotlib import pyplot as plt"
   ]
  },
  {
   "cell_type": "markdown",
   "metadata": {},
   "source": [
    "### Step 2. Import the dataset from this [address](https://raw.githubusercontent.com/guipsamora/pandas_exercises/master/Time_Series/Apple_Stock/appl_1980_2014.csv) or from the file appl_1980_2014.csv from the datasets folder."
   ]
  },
  {
   "cell_type": "code",
   "execution_count": 3,
   "metadata": {},
   "outputs": [],
   "source": [
    "apple=pd.read_csv(\"C:/Users/Vishal/Desktop/Python/2. Pandas Basic Exercises/Exercise Data Files/Pandas Exercise Apple Stock files/appl_1980_2014.csv\")"
   ]
  },
  {
   "cell_type": "markdown",
   "metadata": {},
   "source": [
    "### Step 3. Assign it to a variable apple"
   ]
  },
  {
   "cell_type": "code",
   "execution_count": 4,
   "metadata": {},
   "outputs": [
    {
     "data": {
      "text/html": [
       "<div>\n",
       "<style scoped>\n",
       "    .dataframe tbody tr th:only-of-type {\n",
       "        vertical-align: middle;\n",
       "    }\n",
       "\n",
       "    .dataframe tbody tr th {\n",
       "        vertical-align: top;\n",
       "    }\n",
       "\n",
       "    .dataframe thead th {\n",
       "        text-align: right;\n",
       "    }\n",
       "</style>\n",
       "<table border=\"1\" class=\"dataframe\">\n",
       "  <thead>\n",
       "    <tr style=\"text-align: right;\">\n",
       "      <th></th>\n",
       "      <th>Date</th>\n",
       "      <th>Open</th>\n",
       "      <th>High</th>\n",
       "      <th>Low</th>\n",
       "      <th>Close</th>\n",
       "      <th>Volume</th>\n",
       "      <th>Adj Close</th>\n",
       "    </tr>\n",
       "  </thead>\n",
       "  <tbody>\n",
       "    <tr>\n",
       "      <th>0</th>\n",
       "      <td>2014-07-08</td>\n",
       "      <td>96.27</td>\n",
       "      <td>96.80</td>\n",
       "      <td>93.92</td>\n",
       "      <td>95.35</td>\n",
       "      <td>65130000</td>\n",
       "      <td>95.35</td>\n",
       "    </tr>\n",
       "    <tr>\n",
       "      <th>1</th>\n",
       "      <td>2014-07-07</td>\n",
       "      <td>94.14</td>\n",
       "      <td>95.99</td>\n",
       "      <td>94.10</td>\n",
       "      <td>95.97</td>\n",
       "      <td>56305400</td>\n",
       "      <td>95.97</td>\n",
       "    </tr>\n",
       "    <tr>\n",
       "      <th>2</th>\n",
       "      <td>2014-07-03</td>\n",
       "      <td>93.67</td>\n",
       "      <td>94.10</td>\n",
       "      <td>93.20</td>\n",
       "      <td>94.03</td>\n",
       "      <td>22891800</td>\n",
       "      <td>94.03</td>\n",
       "    </tr>\n",
       "    <tr>\n",
       "      <th>3</th>\n",
       "      <td>2014-07-02</td>\n",
       "      <td>93.87</td>\n",
       "      <td>94.06</td>\n",
       "      <td>93.09</td>\n",
       "      <td>93.48</td>\n",
       "      <td>28420900</td>\n",
       "      <td>93.48</td>\n",
       "    </tr>\n",
       "    <tr>\n",
       "      <th>4</th>\n",
       "      <td>2014-07-01</td>\n",
       "      <td>93.52</td>\n",
       "      <td>94.07</td>\n",
       "      <td>93.13</td>\n",
       "      <td>93.52</td>\n",
       "      <td>38170200</td>\n",
       "      <td>93.52</td>\n",
       "    </tr>\n",
       "  </tbody>\n",
       "</table>\n",
       "</div>"
      ],
      "text/plain": [
       "         Date   Open   High    Low  Close    Volume  Adj Close\n",
       "0  2014-07-08  96.27  96.80  93.92  95.35  65130000      95.35\n",
       "1  2014-07-07  94.14  95.99  94.10  95.97  56305400      95.97\n",
       "2  2014-07-03  93.67  94.10  93.20  94.03  22891800      94.03\n",
       "3  2014-07-02  93.87  94.06  93.09  93.48  28420900      93.48\n",
       "4  2014-07-01  93.52  94.07  93.13  93.52  38170200      93.52"
      ]
     },
     "execution_count": 4,
     "metadata": {},
     "output_type": "execute_result"
    }
   ],
   "source": [
    "apple.head()"
   ]
  },
  {
   "cell_type": "markdown",
   "metadata": {},
   "source": [
    "### Step 4.  Check out the type of the columns"
   ]
  },
  {
   "cell_type": "code",
   "execution_count": 5,
   "metadata": {},
   "outputs": [
    {
     "data": {
      "text/plain": [
       "Date          object\n",
       "Open         float64\n",
       "High         float64\n",
       "Low          float64\n",
       "Close        float64\n",
       "Volume         int64\n",
       "Adj Close    float64\n",
       "dtype: object"
      ]
     },
     "execution_count": 5,
     "metadata": {},
     "output_type": "execute_result"
    }
   ],
   "source": [
    "apple.dtypes"
   ]
  },
  {
   "cell_type": "markdown",
   "metadata": {},
   "source": [
    "### Step 5. Transform the Date column as a datetime type"
   ]
  },
  {
   "cell_type": "code",
   "execution_count": 6,
   "metadata": {},
   "outputs": [],
   "source": [
    "apple['Date']=pd.to_datetime(apple.Date,format=\"%Y-%m-%d\")"
   ]
  },
  {
   "cell_type": "code",
   "execution_count": 7,
   "metadata": {},
   "outputs": [
    {
     "data": {
      "text/plain": [
       "Date         datetime64[ns]\n",
       "Open                float64\n",
       "High                float64\n",
       "Low                 float64\n",
       "Close               float64\n",
       "Volume                int64\n",
       "Adj Close           float64\n",
       "dtype: object"
      ]
     },
     "execution_count": 7,
     "metadata": {},
     "output_type": "execute_result"
    }
   ],
   "source": [
    "apple.dtypes"
   ]
  },
  {
   "cell_type": "markdown",
   "metadata": {},
   "source": [
    "### Step 6.  Set the date as the index"
   ]
  },
  {
   "cell_type": "code",
   "execution_count": 23,
   "metadata": {},
   "outputs": [
    {
     "name": "stdout",
     "output_type": "stream",
     "text": [
      "<class 'pandas.core.frame.DataFrame'>\n",
      "RangeIndex: 8465 entries, 0 to 8464\n",
      "Data columns (total 7 columns):\n",
      "Date         8465 non-null datetime64[ns]\n",
      "Open         8465 non-null float64\n",
      "High         8465 non-null float64\n",
      "Low          8465 non-null float64\n",
      "Close        8465 non-null float64\n",
      "Volume       8465 non-null int64\n",
      "Adj Close    8465 non-null float64\n",
      "dtypes: datetime64[ns](1), float64(5), int64(1)\n",
      "memory usage: 463.0 KB\n"
     ]
    }
   ],
   "source": [
    "apple.info()"
   ]
  },
  {
   "cell_type": "code",
   "execution_count": 24,
   "metadata": {},
   "outputs": [],
   "source": [
    "apple.set_index('Date',inplace=True)"
   ]
  },
  {
   "cell_type": "code",
   "execution_count": 25,
   "metadata": {},
   "outputs": [
    {
     "name": "stdout",
     "output_type": "stream",
     "text": [
      "<class 'pandas.core.frame.DataFrame'>\n",
      "DatetimeIndex: 8465 entries, 2014-07-08 to 1980-12-12\n",
      "Data columns (total 6 columns):\n",
      "Open         8465 non-null float64\n",
      "High         8465 non-null float64\n",
      "Low          8465 non-null float64\n",
      "Close        8465 non-null float64\n",
      "Volume       8465 non-null int64\n",
      "Adj Close    8465 non-null float64\n",
      "dtypes: float64(5), int64(1)\n",
      "memory usage: 462.9 KB\n"
     ]
    }
   ],
   "source": [
    "apple.info()"
   ]
  },
  {
   "cell_type": "markdown",
   "metadata": {},
   "source": [
    "### Step 7.  Is there any duplicate dates?"
   ]
  },
  {
   "cell_type": "code",
   "execution_count": 8,
   "metadata": {},
   "outputs": [
    {
     "data": {
      "text/html": [
       "<div>\n",
       "<style scoped>\n",
       "    .dataframe tbody tr th:only-of-type {\n",
       "        vertical-align: middle;\n",
       "    }\n",
       "\n",
       "    .dataframe tbody tr th {\n",
       "        vertical-align: top;\n",
       "    }\n",
       "\n",
       "    .dataframe thead th {\n",
       "        text-align: right;\n",
       "    }\n",
       "</style>\n",
       "<table border=\"1\" class=\"dataframe\">\n",
       "  <thead>\n",
       "    <tr style=\"text-align: right;\">\n",
       "      <th></th>\n",
       "      <th>Date</th>\n",
       "      <th>Open</th>\n",
       "      <th>High</th>\n",
       "      <th>Low</th>\n",
       "      <th>Close</th>\n",
       "      <th>Volume</th>\n",
       "      <th>Adj Close</th>\n",
       "    </tr>\n",
       "  </thead>\n",
       "  <tbody>\n",
       "    <tr>\n",
       "      <th>0</th>\n",
       "      <td>2014-07-08</td>\n",
       "      <td>96.27</td>\n",
       "      <td>96.80</td>\n",
       "      <td>93.92</td>\n",
       "      <td>95.35</td>\n",
       "      <td>65130000</td>\n",
       "      <td>95.35</td>\n",
       "    </tr>\n",
       "    <tr>\n",
       "      <th>1</th>\n",
       "      <td>2014-07-07</td>\n",
       "      <td>94.14</td>\n",
       "      <td>95.99</td>\n",
       "      <td>94.10</td>\n",
       "      <td>95.97</td>\n",
       "      <td>56305400</td>\n",
       "      <td>95.97</td>\n",
       "    </tr>\n",
       "    <tr>\n",
       "      <th>2</th>\n",
       "      <td>2014-07-03</td>\n",
       "      <td>93.67</td>\n",
       "      <td>94.10</td>\n",
       "      <td>93.20</td>\n",
       "      <td>94.03</td>\n",
       "      <td>22891800</td>\n",
       "      <td>94.03</td>\n",
       "    </tr>\n",
       "    <tr>\n",
       "      <th>3</th>\n",
       "      <td>2014-07-02</td>\n",
       "      <td>93.87</td>\n",
       "      <td>94.06</td>\n",
       "      <td>93.09</td>\n",
       "      <td>93.48</td>\n",
       "      <td>28420900</td>\n",
       "      <td>93.48</td>\n",
       "    </tr>\n",
       "    <tr>\n",
       "      <th>4</th>\n",
       "      <td>2014-07-01</td>\n",
       "      <td>93.52</td>\n",
       "      <td>94.07</td>\n",
       "      <td>93.13</td>\n",
       "      <td>93.52</td>\n",
       "      <td>38170200</td>\n",
       "      <td>93.52</td>\n",
       "    </tr>\n",
       "  </tbody>\n",
       "</table>\n",
       "</div>"
      ],
      "text/plain": [
       "        Date   Open   High    Low  Close    Volume  Adj Close\n",
       "0 2014-07-08  96.27  96.80  93.92  95.35  65130000      95.35\n",
       "1 2014-07-07  94.14  95.99  94.10  95.97  56305400      95.97\n",
       "2 2014-07-03  93.67  94.10  93.20  94.03  22891800      94.03\n",
       "3 2014-07-02  93.87  94.06  93.09  93.48  28420900      93.48\n",
       "4 2014-07-01  93.52  94.07  93.13  93.52  38170200      93.52"
      ]
     },
     "execution_count": 8,
     "metadata": {},
     "output_type": "execute_result"
    }
   ],
   "source": [
    "apple.head()"
   ]
  },
  {
   "cell_type": "code",
   "execution_count": 9,
   "metadata": {},
   "outputs": [
    {
     "data": {
      "text/plain": [
       "0    False\n",
       "1    False\n",
       "2    False\n",
       "3    False\n",
       "4    False\n",
       "Name: Date, dtype: bool"
      ]
     },
     "execution_count": 9,
     "metadata": {},
     "output_type": "execute_result"
    }
   ],
   "source": [
    "apple.Date.duplicated().head()"
   ]
  },
  {
   "cell_type": "code",
   "execution_count": null,
   "metadata": {},
   "outputs": [],
   "source": [
    "## Dropping Duplicates if any"
   ]
  },
  {
   "cell_type": "code",
   "execution_count": 10,
   "metadata": {},
   "outputs": [
    {
     "name": "stdout",
     "output_type": "stream",
     "text": [
      "<class 'pandas.core.frame.DataFrame'>\n",
      "RangeIndex: 8465 entries, 0 to 8464\n",
      "Data columns (total 7 columns):\n",
      "Date         8465 non-null datetime64[ns]\n",
      "Open         8465 non-null float64\n",
      "High         8465 non-null float64\n",
      "Low          8465 non-null float64\n",
      "Close        8465 non-null float64\n",
      "Volume       8465 non-null int64\n",
      "Adj Close    8465 non-null float64\n",
      "dtypes: datetime64[ns](1), float64(5), int64(1)\n",
      "memory usage: 463.0 KB\n"
     ]
    }
   ],
   "source": [
    "apple.info()"
   ]
  },
  {
   "cell_type": "code",
   "execution_count": 11,
   "metadata": {},
   "outputs": [
    {
     "data": {
      "text/html": [
       "<div>\n",
       "<style scoped>\n",
       "    .dataframe tbody tr th:only-of-type {\n",
       "        vertical-align: middle;\n",
       "    }\n",
       "\n",
       "    .dataframe tbody tr th {\n",
       "        vertical-align: top;\n",
       "    }\n",
       "\n",
       "    .dataframe thead th {\n",
       "        text-align: right;\n",
       "    }\n",
       "</style>\n",
       "<table border=\"1\" class=\"dataframe\">\n",
       "  <thead>\n",
       "    <tr style=\"text-align: right;\">\n",
       "      <th></th>\n",
       "      <th>Date</th>\n",
       "      <th>Open</th>\n",
       "      <th>High</th>\n",
       "      <th>Low</th>\n",
       "      <th>Close</th>\n",
       "      <th>Volume</th>\n",
       "      <th>Adj Close</th>\n",
       "    </tr>\n",
       "  </thead>\n",
       "  <tbody>\n",
       "    <tr>\n",
       "      <th>0</th>\n",
       "      <td>2014-07-08</td>\n",
       "      <td>96.27</td>\n",
       "      <td>96.80</td>\n",
       "      <td>93.92</td>\n",
       "      <td>95.35</td>\n",
       "      <td>65130000</td>\n",
       "      <td>95.35</td>\n",
       "    </tr>\n",
       "    <tr>\n",
       "      <th>1</th>\n",
       "      <td>2014-07-07</td>\n",
       "      <td>94.14</td>\n",
       "      <td>95.99</td>\n",
       "      <td>94.10</td>\n",
       "      <td>95.97</td>\n",
       "      <td>56305400</td>\n",
       "      <td>95.97</td>\n",
       "    </tr>\n",
       "    <tr>\n",
       "      <th>2</th>\n",
       "      <td>2014-07-03</td>\n",
       "      <td>93.67</td>\n",
       "      <td>94.10</td>\n",
       "      <td>93.20</td>\n",
       "      <td>94.03</td>\n",
       "      <td>22891800</td>\n",
       "      <td>94.03</td>\n",
       "    </tr>\n",
       "    <tr>\n",
       "      <th>3</th>\n",
       "      <td>2014-07-02</td>\n",
       "      <td>93.87</td>\n",
       "      <td>94.06</td>\n",
       "      <td>93.09</td>\n",
       "      <td>93.48</td>\n",
       "      <td>28420900</td>\n",
       "      <td>93.48</td>\n",
       "    </tr>\n",
       "    <tr>\n",
       "      <th>4</th>\n",
       "      <td>2014-07-01</td>\n",
       "      <td>93.52</td>\n",
       "      <td>94.07</td>\n",
       "      <td>93.13</td>\n",
       "      <td>93.52</td>\n",
       "      <td>38170200</td>\n",
       "      <td>93.52</td>\n",
       "    </tr>\n",
       "  </tbody>\n",
       "</table>\n",
       "</div>"
      ],
      "text/plain": [
       "        Date   Open   High    Low  Close    Volume  Adj Close\n",
       "0 2014-07-08  96.27  96.80  93.92  95.35  65130000      95.35\n",
       "1 2014-07-07  94.14  95.99  94.10  95.97  56305400      95.97\n",
       "2 2014-07-03  93.67  94.10  93.20  94.03  22891800      94.03\n",
       "3 2014-07-02  93.87  94.06  93.09  93.48  28420900      93.48\n",
       "4 2014-07-01  93.52  94.07  93.13  93.52  38170200      93.52"
      ]
     },
     "execution_count": 11,
     "metadata": {},
     "output_type": "execute_result"
    }
   ],
   "source": [
    "apple.drop_duplicates('Date').head()"
   ]
  },
  {
   "cell_type": "code",
   "execution_count": 12,
   "metadata": {},
   "outputs": [
    {
     "name": "stdout",
     "output_type": "stream",
     "text": [
      "<class 'pandas.core.frame.DataFrame'>\n",
      "RangeIndex: 8465 entries, 0 to 8464\n",
      "Data columns (total 7 columns):\n",
      "Date         8465 non-null datetime64[ns]\n",
      "Open         8465 non-null float64\n",
      "High         8465 non-null float64\n",
      "Low          8465 non-null float64\n",
      "Close        8465 non-null float64\n",
      "Volume       8465 non-null int64\n",
      "Adj Close    8465 non-null float64\n",
      "dtypes: datetime64[ns](1), float64(5), int64(1)\n",
      "memory usage: 463.0 KB\n"
     ]
    }
   ],
   "source": [
    "apple.info()"
   ]
  },
  {
   "cell_type": "markdown",
   "metadata": {},
   "source": [
    "### Step 8.  The index is from the most recent date. Sort the data so that the first entry is the oldest date."
   ]
  },
  {
   "cell_type": "code",
   "execution_count": 13,
   "metadata": {},
   "outputs": [
    {
     "data": {
      "text/html": [
       "<div>\n",
       "<style scoped>\n",
       "    .dataframe tbody tr th:only-of-type {\n",
       "        vertical-align: middle;\n",
       "    }\n",
       "\n",
       "    .dataframe tbody tr th {\n",
       "        vertical-align: top;\n",
       "    }\n",
       "\n",
       "    .dataframe thead th {\n",
       "        text-align: right;\n",
       "    }\n",
       "</style>\n",
       "<table border=\"1\" class=\"dataframe\">\n",
       "  <thead>\n",
       "    <tr style=\"text-align: right;\">\n",
       "      <th></th>\n",
       "      <th>Date</th>\n",
       "      <th>Open</th>\n",
       "      <th>High</th>\n",
       "      <th>Low</th>\n",
       "      <th>Close</th>\n",
       "      <th>Volume</th>\n",
       "      <th>Adj Close</th>\n",
       "    </tr>\n",
       "  </thead>\n",
       "  <tbody>\n",
       "    <tr>\n",
       "      <th>8464</th>\n",
       "      <td>1980-12-12</td>\n",
       "      <td>28.75</td>\n",
       "      <td>28.87</td>\n",
       "      <td>28.75</td>\n",
       "      <td>28.75</td>\n",
       "      <td>117258400</td>\n",
       "      <td>0.45</td>\n",
       "    </tr>\n",
       "    <tr>\n",
       "      <th>8463</th>\n",
       "      <td>1980-12-15</td>\n",
       "      <td>27.38</td>\n",
       "      <td>27.38</td>\n",
       "      <td>27.25</td>\n",
       "      <td>27.25</td>\n",
       "      <td>43971200</td>\n",
       "      <td>0.42</td>\n",
       "    </tr>\n",
       "    <tr>\n",
       "      <th>8462</th>\n",
       "      <td>1980-12-16</td>\n",
       "      <td>25.37</td>\n",
       "      <td>25.37</td>\n",
       "      <td>25.25</td>\n",
       "      <td>25.25</td>\n",
       "      <td>26432000</td>\n",
       "      <td>0.39</td>\n",
       "    </tr>\n",
       "    <tr>\n",
       "      <th>8461</th>\n",
       "      <td>1980-12-17</td>\n",
       "      <td>25.87</td>\n",
       "      <td>26.00</td>\n",
       "      <td>25.87</td>\n",
       "      <td>25.87</td>\n",
       "      <td>21610400</td>\n",
       "      <td>0.40</td>\n",
       "    </tr>\n",
       "    <tr>\n",
       "      <th>8460</th>\n",
       "      <td>1980-12-18</td>\n",
       "      <td>26.63</td>\n",
       "      <td>26.75</td>\n",
       "      <td>26.63</td>\n",
       "      <td>26.63</td>\n",
       "      <td>18362400</td>\n",
       "      <td>0.41</td>\n",
       "    </tr>\n",
       "  </tbody>\n",
       "</table>\n",
       "</div>"
      ],
      "text/plain": [
       "           Date   Open   High    Low  Close     Volume  Adj Close\n",
       "8464 1980-12-12  28.75  28.87  28.75  28.75  117258400       0.45\n",
       "8463 1980-12-15  27.38  27.38  27.25  27.25   43971200       0.42\n",
       "8462 1980-12-16  25.37  25.37  25.25  25.25   26432000       0.39\n",
       "8461 1980-12-17  25.87  26.00  25.87  25.87   21610400       0.40\n",
       "8460 1980-12-18  26.63  26.75  26.63  26.63   18362400       0.41"
      ]
     },
     "execution_count": 13,
     "metadata": {},
     "output_type": "execute_result"
    }
   ],
   "source": [
    "apple.sort_values('Date').head()"
   ]
  },
  {
   "cell_type": "markdown",
   "metadata": {},
   "source": [
    "### Step 9. Get the last business day of each month"
   ]
  },
  {
   "cell_type": "code",
   "execution_count": 14,
   "metadata": {},
   "outputs": [],
   "source": [
    "from pandas.tseries.offsets import BMonthEnd\n",
    "from datetime import date"
   ]
  },
  {
   "cell_type": "code",
   "execution_count": 15,
   "metadata": {},
   "outputs": [],
   "source": [
    "offset = BMonthEnd()"
   ]
  },
  {
   "cell_type": "code",
   "execution_count": 16,
   "metadata": {},
   "outputs": [
    {
     "data": {
      "text/plain": [
       "0      2014-07-31\n",
       "1      2014-07-31\n",
       "2      2014-07-31\n",
       "3      2014-07-31\n",
       "4      2014-07-31\n",
       "5      2014-06-30\n",
       "6      2014-06-30\n",
       "7      2014-06-30\n",
       "8      2014-06-30\n",
       "9      2014-06-30\n",
       "10     2014-06-30\n",
       "11     2014-06-30\n",
       "12     2014-06-30\n",
       "13     2014-06-30\n",
       "14     2014-06-30\n",
       "15     2014-06-30\n",
       "16     2014-06-30\n",
       "17     2014-06-30\n",
       "18     2014-06-30\n",
       "19     2014-06-30\n",
       "20     2014-06-30\n",
       "21     2014-06-30\n",
       "22     2014-06-30\n",
       "23     2014-06-30\n",
       "24     2014-06-30\n",
       "25     2014-06-30\n",
       "26     2014-05-30\n",
       "27     2014-05-30\n",
       "28     2014-05-30\n",
       "29     2014-05-30\n",
       "          ...    \n",
       "8435   1981-01-30\n",
       "8436   1981-01-30\n",
       "8437   1981-01-30\n",
       "8438   1981-01-30\n",
       "8439   1981-01-30\n",
       "8440   1981-01-30\n",
       "8441   1981-01-30\n",
       "8442   1981-01-30\n",
       "8443   1981-01-30\n",
       "8444   1981-01-30\n",
       "8445   1981-01-30\n",
       "8446   1981-01-30\n",
       "8447   1981-01-30\n",
       "8448   1981-01-30\n",
       "8449   1981-01-30\n",
       "8450   1981-01-30\n",
       "8451   1981-01-30\n",
       "8452   1980-12-31\n",
       "8453   1980-12-31\n",
       "8454   1980-12-31\n",
       "8455   1980-12-31\n",
       "8456   1980-12-31\n",
       "8457   1980-12-31\n",
       "8458   1980-12-31\n",
       "8459   1980-12-31\n",
       "8460   1980-12-31\n",
       "8461   1980-12-31\n",
       "8462   1980-12-31\n",
       "8463   1980-12-31\n",
       "8464   1980-12-31\n",
       "Length: 8465, dtype: datetime64[ns]"
      ]
     },
     "execution_count": 16,
     "metadata": {},
     "output_type": "execute_result"
    }
   ],
   "source": [
    "pd.Series(map(lambda x: offset.rollforward(x),apple.Date))"
   ]
  },
  {
   "cell_type": "markdown",
   "metadata": {},
   "source": [
    "### Step 10.  What is the difference in days between the first day and the oldest"
   ]
  },
  {
   "cell_type": "code",
   "execution_count": 17,
   "metadata": {},
   "outputs": [],
   "source": [
    "last=apple['Date'].iloc[-1]"
   ]
  },
  {
   "cell_type": "code",
   "execution_count": 18,
   "metadata": {},
   "outputs": [],
   "source": [
    "first=apple['Date'].iloc[0]"
   ]
  },
  {
   "cell_type": "code",
   "execution_count": 19,
   "metadata": {},
   "outputs": [
    {
     "name": "stdout",
     "output_type": "stream",
     "text": [
      "12261\n"
     ]
    }
   ],
   "source": [
    "Days=first-last\n",
    "print(Days.days)"
   ]
  },
  {
   "cell_type": "markdown",
   "metadata": {},
   "source": [
    "### Step 11.  How many months in the data we have?"
   ]
  },
  {
   "cell_type": "code",
   "execution_count": 20,
   "metadata": {},
   "outputs": [
    {
     "name": "stdout",
     "output_type": "stream",
     "text": [
      "2014-07-08 00:00:00\n",
      "2014-06-30 00:00:00\n",
      "2014-05-30 00:00:00\n",
      "2014-04-30 00:00:00\n",
      "2014-03-31 00:00:00\n",
      "2014-02-28 00:00:00\n",
      "2014-01-31 00:00:00\n",
      "2013-12-31 00:00:00\n",
      "2013-11-29 00:00:00\n",
      "2013-10-31 00:00:00\n",
      "2013-09-30 00:00:00\n",
      "2013-08-30 00:00:00\n",
      "2013-07-31 00:00:00\n",
      "2013-06-28 00:00:00\n",
      "2013-05-31 00:00:00\n",
      "2013-04-30 00:00:00\n",
      "2013-03-28 00:00:00\n",
      "2013-02-28 00:00:00\n",
      "2013-01-31 00:00:00\n",
      "2012-12-31 00:00:00\n",
      "2012-11-30 00:00:00\n",
      "2012-10-31 00:00:00\n",
      "2012-09-28 00:00:00\n",
      "2012-08-31 00:00:00\n",
      "2012-07-31 00:00:00\n",
      "2012-06-29 00:00:00\n",
      "2012-05-31 00:00:00\n",
      "2012-04-30 00:00:00\n",
      "2012-03-30 00:00:00\n",
      "2012-02-29 00:00:00\n",
      "2012-01-31 00:00:00\n",
      "2011-12-30 00:00:00\n",
      "2011-11-30 00:00:00\n",
      "2011-10-31 00:00:00\n",
      "2011-09-30 00:00:00\n",
      "2011-08-31 00:00:00\n",
      "2011-07-29 00:00:00\n",
      "2011-06-30 00:00:00\n",
      "2011-05-31 00:00:00\n",
      "2011-04-29 00:00:00\n",
      "2011-03-31 00:00:00\n",
      "2011-02-28 00:00:00\n",
      "2011-01-31 00:00:00\n",
      "2010-12-31 00:00:00\n",
      "2010-11-30 00:00:00\n",
      "2010-10-29 00:00:00\n",
      "2010-09-30 00:00:00\n",
      "2010-08-31 00:00:00\n",
      "2010-07-30 00:00:00\n",
      "2010-06-30 00:00:00\n",
      "2010-05-28 00:00:00\n",
      "2010-04-30 00:00:00\n",
      "2010-03-31 00:00:00\n",
      "2010-02-26 00:00:00\n",
      "2010-01-29 00:00:00\n",
      "2009-12-31 00:00:00\n",
      "2009-11-30 00:00:00\n",
      "2009-10-30 00:00:00\n",
      "2009-09-30 00:00:00\n",
      "2009-08-31 00:00:00\n",
      "2009-07-31 00:00:00\n",
      "2009-06-30 00:00:00\n",
      "2009-05-29 00:00:00\n",
      "2009-04-30 00:00:00\n",
      "2009-03-31 00:00:00\n",
      "2009-02-27 00:00:00\n",
      "2009-01-30 00:00:00\n",
      "2008-12-31 00:00:00\n",
      "2008-11-28 00:00:00\n",
      "2008-10-31 00:00:00\n",
      "2008-09-30 00:00:00\n",
      "2008-08-29 00:00:00\n",
      "2008-07-31 00:00:00\n",
      "2008-06-30 00:00:00\n",
      "2008-05-30 00:00:00\n",
      "2008-04-30 00:00:00\n",
      "2008-03-31 00:00:00\n",
      "2008-02-29 00:00:00\n",
      "2008-01-31 00:00:00\n",
      "2007-12-31 00:00:00\n",
      "2007-11-30 00:00:00\n",
      "2007-10-31 00:00:00\n",
      "2007-09-28 00:00:00\n",
      "2007-08-31 00:00:00\n",
      "2007-07-31 00:00:00\n",
      "2007-06-29 00:00:00\n",
      "2007-05-31 00:00:00\n",
      "2007-04-30 00:00:00\n",
      "2007-03-30 00:00:00\n",
      "2007-02-28 00:00:00\n",
      "2007-01-31 00:00:00\n",
      "2006-12-29 00:00:00\n",
      "2006-11-30 00:00:00\n",
      "2006-10-31 00:00:00\n",
      "2006-09-29 00:00:00\n",
      "2006-08-31 00:00:00\n",
      "2006-07-31 00:00:00\n",
      "2006-06-30 00:00:00\n",
      "2006-05-31 00:00:00\n",
      "2006-04-28 00:00:00\n",
      "2006-03-31 00:00:00\n",
      "2006-02-28 00:00:00\n",
      "2006-01-31 00:00:00\n",
      "2005-12-30 00:00:00\n",
      "2005-11-30 00:00:00\n",
      "2005-10-31 00:00:00\n",
      "2005-09-30 00:00:00\n",
      "2005-08-31 00:00:00\n",
      "2005-07-29 00:00:00\n",
      "2005-06-30 00:00:00\n",
      "2005-05-31 00:00:00\n",
      "2005-04-29 00:00:00\n",
      "2005-03-31 00:00:00\n",
      "2005-02-28 00:00:00\n",
      "2005-01-31 00:00:00\n",
      "2004-12-31 00:00:00\n",
      "2004-11-30 00:00:00\n",
      "2004-10-29 00:00:00\n",
      "2004-09-30 00:00:00\n",
      "2004-08-31 00:00:00\n",
      "2004-07-30 00:00:00\n",
      "2004-06-30 00:00:00\n",
      "2004-05-28 00:00:00\n",
      "2004-04-30 00:00:00\n",
      "2004-03-31 00:00:00\n",
      "2004-02-27 00:00:00\n",
      "2004-01-30 00:00:00\n",
      "2003-12-31 00:00:00\n",
      "2003-11-28 00:00:00\n",
      "2003-10-31 00:00:00\n",
      "2003-09-30 00:00:00\n",
      "2003-08-29 00:00:00\n",
      "2003-07-31 00:00:00\n",
      "2003-06-30 00:00:00\n",
      "2003-05-30 00:00:00\n",
      "2003-04-30 00:00:00\n",
      "2003-03-31 00:00:00\n",
      "2003-02-28 00:00:00\n",
      "2003-01-31 00:00:00\n",
      "2002-12-31 00:00:00\n",
      "2002-11-29 00:00:00\n",
      "2002-10-31 00:00:00\n",
      "2002-09-30 00:00:00\n",
      "2002-08-30 00:00:00\n",
      "2002-07-31 00:00:00\n",
      "2002-06-28 00:00:00\n",
      "2002-05-31 00:00:00\n",
      "2002-04-30 00:00:00\n",
      "2002-03-28 00:00:00\n",
      "2002-02-28 00:00:00\n",
      "2002-01-31 00:00:00\n",
      "2001-12-31 00:00:00\n",
      "2001-11-30 00:00:00\n",
      "2001-10-31 00:00:00\n",
      "2001-09-28 00:00:00\n",
      "2001-08-31 00:00:00\n",
      "2001-07-31 00:00:00\n",
      "2001-06-29 00:00:00\n",
      "2001-05-31 00:00:00\n",
      "2001-04-30 00:00:00\n",
      "2001-03-30 00:00:00\n",
      "2001-02-28 00:00:00\n",
      "2001-01-31 00:00:00\n",
      "2000-12-29 00:00:00\n",
      "2000-11-30 00:00:00\n",
      "2000-10-31 00:00:00\n",
      "2000-09-29 00:00:00\n",
      "2000-08-31 00:00:00\n",
      "2000-07-31 00:00:00\n",
      "2000-06-30 00:00:00\n",
      "2000-05-31 00:00:00\n",
      "2000-04-28 00:00:00\n",
      "2000-03-31 00:00:00\n",
      "2000-02-29 00:00:00\n",
      "2000-01-31 00:00:00\n",
      "1999-12-31 00:00:00\n",
      "1999-11-30 00:00:00\n",
      "1999-10-29 00:00:00\n",
      "1999-09-30 00:00:00\n",
      "1999-08-31 00:00:00\n",
      "1999-07-30 00:00:00\n",
      "1999-06-30 00:00:00\n",
      "1999-05-28 00:00:00\n",
      "1999-04-30 00:00:00\n",
      "1999-03-31 00:00:00\n",
      "1999-02-26 00:00:00\n",
      "1999-01-29 00:00:00\n",
      "1998-12-31 00:00:00\n",
      "1998-11-30 00:00:00\n",
      "1998-10-30 00:00:00\n",
      "1998-09-30 00:00:00\n",
      "1998-08-31 00:00:00\n",
      "1998-07-31 00:00:00\n",
      "1998-06-30 00:00:00\n",
      "1998-05-29 00:00:00\n",
      "1998-04-30 00:00:00\n",
      "1998-03-31 00:00:00\n",
      "1998-02-27 00:00:00\n",
      "1998-01-30 00:00:00\n",
      "1997-12-31 00:00:00\n",
      "1997-11-28 00:00:00\n",
      "1997-10-31 00:00:00\n",
      "1997-09-30 00:00:00\n",
      "1997-08-29 00:00:00\n",
      "1997-07-31 00:00:00\n",
      "1997-06-30 00:00:00\n",
      "1997-05-30 00:00:00\n",
      "1997-04-30 00:00:00\n",
      "1997-03-31 00:00:00\n",
      "1997-02-28 00:00:00\n",
      "1997-01-31 00:00:00\n",
      "1996-12-31 00:00:00\n",
      "1996-11-29 00:00:00\n",
      "1996-10-31 00:00:00\n",
      "1996-09-30 00:00:00\n",
      "1996-08-30 00:00:00\n",
      "1996-07-31 00:00:00\n",
      "1996-06-28 00:00:00\n",
      "1996-05-31 00:00:00\n",
      "1996-04-30 00:00:00\n",
      "1996-03-29 00:00:00\n",
      "1996-02-29 00:00:00\n",
      "1996-01-31 00:00:00\n",
      "1995-12-29 00:00:00\n",
      "1995-11-30 00:00:00\n",
      "1995-10-31 00:00:00\n",
      "1995-09-29 00:00:00\n",
      "1995-08-31 00:00:00\n",
      "1995-07-31 00:00:00\n",
      "1995-06-30 00:00:00\n",
      "1995-05-31 00:00:00\n",
      "1995-04-28 00:00:00\n",
      "1995-03-31 00:00:00\n",
      "1995-02-28 00:00:00\n",
      "1995-01-31 00:00:00\n",
      "1994-12-30 00:00:00\n",
      "1994-11-30 00:00:00\n",
      "1994-10-31 00:00:00\n",
      "1994-09-30 00:00:00\n",
      "1994-08-31 00:00:00\n",
      "1994-07-29 00:00:00\n",
      "1994-06-30 00:00:00\n",
      "1994-05-31 00:00:00\n",
      "1994-04-29 00:00:00\n",
      "1994-03-31 00:00:00\n",
      "1994-02-28 00:00:00\n",
      "1994-01-31 00:00:00\n",
      "1993-12-31 00:00:00\n",
      "1993-11-30 00:00:00\n",
      "1993-10-29 00:00:00\n",
      "1993-09-30 00:00:00\n",
      "1993-08-31 00:00:00\n",
      "1993-07-30 00:00:00\n",
      "1993-06-30 00:00:00\n",
      "1993-05-28 00:00:00\n",
      "1993-04-30 00:00:00\n",
      "1993-03-31 00:00:00\n",
      "1993-02-26 00:00:00\n",
      "1993-01-29 00:00:00\n",
      "1992-12-31 00:00:00\n",
      "1992-11-30 00:00:00\n",
      "1992-10-30 00:00:00\n",
      "1992-09-30 00:00:00\n",
      "1992-08-31 00:00:00\n",
      "1992-07-31 00:00:00\n",
      "1992-06-30 00:00:00\n",
      "1992-05-29 00:00:00\n",
      "1992-04-30 00:00:00\n",
      "1992-03-31 00:00:00\n",
      "1992-02-28 00:00:00\n",
      "1992-01-31 00:00:00\n",
      "1991-12-31 00:00:00\n",
      "1991-11-29 00:00:00\n",
      "1991-10-31 00:00:00\n",
      "1991-09-30 00:00:00\n",
      "1991-08-30 00:00:00\n",
      "1991-07-31 00:00:00\n",
      "1991-06-28 00:00:00\n",
      "1991-05-31 00:00:00\n",
      "1991-04-30 00:00:00\n",
      "1991-03-28 00:00:00\n",
      "1991-02-28 00:00:00\n",
      "1991-01-31 00:00:00\n",
      "1990-12-31 00:00:00\n",
      "1990-11-30 00:00:00\n",
      "1990-10-31 00:00:00\n",
      "1990-09-28 00:00:00\n",
      "1990-08-31 00:00:00\n",
      "1990-07-31 00:00:00\n",
      "1990-06-29 00:00:00\n",
      "1990-05-31 00:00:00\n",
      "1990-04-30 00:00:00\n",
      "1990-03-30 00:00:00\n",
      "1990-02-28 00:00:00\n",
      "1990-01-31 00:00:00\n",
      "1989-12-29 00:00:00\n",
      "1989-11-30 00:00:00\n",
      "1989-10-31 00:00:00\n",
      "1989-09-29 00:00:00\n",
      "1989-08-31 00:00:00\n",
      "1989-07-31 00:00:00\n",
      "1989-06-30 00:00:00\n",
      "1989-05-31 00:00:00\n",
      "1989-04-28 00:00:00\n",
      "1989-03-31 00:00:00\n",
      "1989-02-28 00:00:00\n",
      "1989-01-31 00:00:00\n",
      "1988-12-30 00:00:00\n",
      "1988-11-30 00:00:00\n",
      "1988-10-31 00:00:00\n",
      "1988-09-30 00:00:00\n",
      "1988-08-31 00:00:00\n",
      "1988-07-29 00:00:00\n",
      "1988-06-30 00:00:00\n",
      "1988-05-31 00:00:00\n",
      "1988-04-29 00:00:00\n",
      "1988-03-31 00:00:00\n",
      "1988-02-29 00:00:00\n",
      "1988-01-29 00:00:00\n",
      "1987-12-31 00:00:00\n",
      "1987-11-30 00:00:00\n",
      "1987-10-30 00:00:00\n",
      "1987-09-30 00:00:00\n",
      "1987-08-31 00:00:00\n",
      "1987-07-31 00:00:00\n",
      "1987-06-30 00:00:00\n",
      "1987-05-29 00:00:00\n",
      "1987-04-30 00:00:00\n",
      "1987-03-31 00:00:00\n",
      "1987-02-27 00:00:00\n",
      "1987-01-30 00:00:00\n",
      "1986-12-31 00:00:00\n",
      "1986-11-28 00:00:00\n",
      "1986-10-31 00:00:00\n",
      "1986-09-30 00:00:00\n",
      "1986-08-29 00:00:00\n",
      "1986-07-31 00:00:00\n",
      "1986-06-30 00:00:00\n",
      "1986-05-30 00:00:00\n",
      "1986-04-30 00:00:00\n",
      "1986-03-31 00:00:00\n",
      "1986-02-28 00:00:00\n",
      "1986-01-31 00:00:00\n",
      "1985-12-31 00:00:00\n",
      "1985-11-29 00:00:00\n",
      "1985-10-31 00:00:00\n",
      "1985-09-30 00:00:00\n",
      "1985-08-30 00:00:00\n",
      "1985-07-31 00:00:00\n",
      "1985-06-28 00:00:00\n",
      "1985-05-31 00:00:00\n",
      "1985-04-30 00:00:00\n",
      "1985-03-29 00:00:00\n",
      "1985-02-28 00:00:00\n",
      "1985-01-31 00:00:00\n",
      "1984-12-31 00:00:00\n",
      "1984-11-30 00:00:00\n",
      "1984-10-31 00:00:00\n",
      "1984-09-28 00:00:00\n",
      "1984-08-31 00:00:00\n",
      "1984-07-31 00:00:00\n",
      "1984-06-29 00:00:00\n",
      "1984-05-31 00:00:00\n",
      "1984-04-30 00:00:00\n",
      "1984-03-30 00:00:00\n",
      "1984-02-29 00:00:00\n",
      "1984-01-31 00:00:00\n",
      "1983-12-30 00:00:00\n",
      "1983-11-30 00:00:00\n",
      "1983-10-31 00:00:00\n",
      "1983-09-30 00:00:00\n",
      "1983-08-31 00:00:00\n",
      "1983-07-29 00:00:00\n",
      "1983-06-30 00:00:00\n",
      "1983-05-31 00:00:00\n",
      "1983-04-29 00:00:00\n",
      "1983-03-31 00:00:00\n",
      "1983-02-28 00:00:00\n",
      "1983-01-31 00:00:00\n",
      "1982-12-31 00:00:00\n",
      "1982-11-30 00:00:00\n",
      "1982-10-29 00:00:00\n",
      "1982-09-30 00:00:00\n",
      "1982-08-31 00:00:00\n",
      "1982-07-30 00:00:00\n",
      "1982-06-30 00:00:00\n",
      "1982-05-28 00:00:00\n",
      "1982-04-30 00:00:00\n",
      "1982-03-31 00:00:00\n",
      "1982-02-26 00:00:00\n",
      "1982-01-29 00:00:00\n",
      "1981-12-31 00:00:00\n",
      "1981-11-30 00:00:00\n",
      "1981-10-30 00:00:00\n",
      "1981-09-30 00:00:00\n",
      "1981-08-31 00:00:00\n",
      "1981-07-31 00:00:00\n",
      "1981-06-30 00:00:00\n",
      "1981-05-29 00:00:00\n",
      "1981-04-30 00:00:00\n",
      "1981-03-31 00:00:00\n",
      "1981-02-27 00:00:00\n",
      "1981-01-30 00:00:00\n",
      "1980-12-31 00:00:00\n",
      "Total number of unique months with respect to year are 404\n"
     ]
    }
   ],
   "source": [
    "Year=0\n",
    "Month=0\n",
    "Count=0\n",
    "for x in apple.Date:\n",
    "    if ((x.year!=Year)|(x.month!=Month)):\n",
    "        Count+=1\n",
    "        print(x)\n",
    "    Year=x.year\n",
    "    Month=x.month\n",
    "        \n",
    "print(\"Total number of unique months with respect to year are\",Count)    "
   ]
  },
  {
   "cell_type": "markdown",
   "metadata": {},
   "source": [
    "### Step 12. Plot the 'Adj Close' value. Set the size of the figure to 13.5 x 9 inches"
   ]
  },
  {
   "cell_type": "code",
   "execution_count": 21,
   "metadata": {},
   "outputs": [],
   "source": [
    "from matplotlib.pyplot import figure"
   ]
  },
  {
   "cell_type": "code",
   "execution_count": 22,
   "metadata": {},
   "outputs": [
    {
     "data": {
      "text/plain": [
       "(array([6451.,  543.,  375.,  142.,  185.,  164.,  151.,  202.,  175.,\n",
       "          77.]),\n",
       " array([ 0.17 ,  9.781, 19.392, 29.003, 38.614, 48.225, 57.836, 67.447,\n",
       "        77.058, 86.669, 96.28 ]),\n",
       " <a list of 10 Patch objects>)"
      ]
     },
     "execution_count": 22,
     "metadata": {},
     "output_type": "execute_result"
    },
    {
     "data": {
      "image/png": "[encoded data removed]",
      "text/plain": [
       "<Figure size 972x648 with 1 Axes>"
      ]
     },
     "metadata": {
      "needs_background": "light"
     },
     "output_type": "display_data"
    }
   ],
   "source": [
    "plt.figure(figsize=(13.5,9))\n",
    "plt.hist(apple['Adj Close'])"
   ]
  },
  {
   "cell_type": "code",
   "execution_count": null,
   "metadata": {},
   "outputs": [],
   "source": []
  }
 ],
 "metadata": {
  "anaconda-cloud": {},
  "kernelspec": {
   "display_name": "Python 3",
   "language": "python",
   "name": "python3"
  },
  "language_info": {
   "codemirror_mode": {
    "name": "ipython",
    "version": 3
   },
   "file_extension": ".py",
   "mimetype": "text/x-python",
   "name": "python",
   "nbconvert_exporter": "python",
   "pygments_lexer": "ipython3",
   "version": "3.7.3"
  }
 },
 "nbformat": 4,
 "nbformat_minor": 1
}
